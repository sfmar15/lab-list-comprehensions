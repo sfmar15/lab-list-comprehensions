{
 "cells": [
  {
   "cell_type": "code",
   "execution_count": 1,
   "id": "67f48694",
   "metadata": {},
   "outputs": [
    {
     "name": "stdout",
     "output_type": "stream",
     "text": [
      "Hello World\n"
     ]
    }
   ],
   "source": [
    "print(\"Hello World\")"
   ]
  },
  {
   "cell_type": "code",
   "execution_count": 8,
   "id": "24ac275d",
   "metadata": {},
   "outputs": [
    {
     "data": {
      "text/plain": [
       "12"
      ]
     },
     "execution_count": 8,
     "metadata": {},
     "output_type": "execute_result"
    }
   ],
   "source": [
    "#Variables, native types and basic operations\n",
    "\n",
    "#the objective below is to initialize a variable\n",
    "a = 12\n",
    "b = 13\n",
    "c = 14\n",
    "d = \"hello\"\n",
    "\n",
    "a"
   ]
  },
  {
   "cell_type": "code",
   "execution_count": 9,
   "id": "1a867215",
   "metadata": {},
   "outputs": [
    {
     "data": {
      "text/plain": [
       "'hello'"
      ]
     },
     "metadata": {},
     "output_type": "display_data"
    }
   ],
   "source": [
    "display (d) #we use it for data frames, print is enough for others"
   ]
  },
  {
   "cell_type": "code",
   "execution_count": 14,
   "id": "041142c9",
   "metadata": {},
   "outputs": [
    {
     "data": {
      "text/plain": [
       "'hello14'"
      ]
     },
     "execution_count": 14,
     "metadata": {},
     "output_type": "execute_result"
    }
   ],
   "source": [
    "# operator + can be used for all data types to concatenate them\n",
    "a = \"hello\"\n",
    "\n",
    "a = a + str(c)\n",
    "a"
   ]
  },
  {
   "cell_type": "code",
   "execution_count": 17,
   "id": "d06d1362",
   "metadata": {},
   "outputs": [
    {
     "data": {
      "text/plain": [
       "'hello hello '"
      ]
     },
     "execution_count": 17,
     "metadata": {},
     "output_type": "execute_result"
    }
   ],
   "source": [
    "a = \"hello \"\n",
    "a * 2    #prints your variable twice"
   ]
  },
  {
   "cell_type": "code",
   "execution_count": 19,
   "id": "5d22e71f",
   "metadata": {},
   "outputs": [
    {
     "data": {
      "text/plain": [
       "bool"
      ]
     },
     "execution_count": 19,
     "metadata": {},
     "output_type": "execute_result"
    }
   ],
   "source": [
    "type(False)"
   ]
  },
  {
   "cell_type": "code",
   "execution_count": 20,
   "id": "3a5cecfc",
   "metadata": {},
   "outputs": [
    {
     "data": {
      "text/plain": [
       "'HELLO'"
      ]
     },
     "execution_count": 20,
     "metadata": {},
     "output_type": "execute_result"
    }
   ],
   "source": [
    "a = \"hello\"\n",
    "a.upper()\n",
    "# a common method for strings is \"uppercase\"\n",
    "# whenever you call a method or a function, you need to use () in the end"
   ]
  },
  {
   "cell_type": "code",
   "execution_count": null,
   "id": "1aa569d2",
   "metadata": {},
   "outputs": [],
   "source": [
    "## We talked about the simplest native python data types but we also have other native data types that work as \n",
    "## containers. They are used to store collection of data. Collection of other data types. \n",
    "## And they are the Lists. Sets. Tuples. Dictionaries."
   ]
  },
  {
   "cell_type": "code",
   "execution_count": 24,
   "id": "e762dabe",
   "metadata": {},
   "outputs": [
    {
     "data": {
      "text/plain": [
       "True"
      ]
     },
     "execution_count": 24,
     "metadata": {},
     "output_type": "execute_result"
    }
   ],
   "source": [
    "my_list = [5.0, \"hello\", 10, True]\n",
    "my_list [3] \n",
    "#lists"
   ]
  },
  {
   "cell_type": "code",
   "execution_count": 23,
   "id": "4d968256",
   "metadata": {},
   "outputs": [
    {
     "data": {
      "text/plain": [
       "160"
      ]
     },
     "execution_count": 23,
     "metadata": {},
     "output_type": "execute_result"
    }
   ],
   "source": [
    "my_tuple = (160,55)\n",
    "my_tuple[0]\n",
    "#tuples"
   ]
  },
  {
   "cell_type": "code",
   "execution_count": 40,
   "id": "2421f7ff",
   "metadata": {},
   "outputs": [
    {
     "name": "stdout",
     "output_type": "stream",
     "text": [
      "March\n",
      "December\n"
     ]
    }
   ],
   "source": [
    "test_list = [\"January\",\"March\",\"May\",\"July\",\"August\",\"October\",\"December\"]\n",
    "print(test_list[1])\n",
    "print(test_list[-1])"
   ]
  },
  {
   "cell_type": "code",
   "execution_count": 41,
   "id": "fbeb8a4b",
   "metadata": {},
   "outputs": [
    {
     "name": "stdout",
     "output_type": "stream",
     "text": [
      "6\n"
     ]
    }
   ],
   "source": [
    "print(len(test_list)-1)"
   ]
  },
  {
   "cell_type": "code",
   "execution_count": 46,
   "id": "b0fa1d8d",
   "metadata": {},
   "outputs": [
    {
     "data": {
      "text/plain": [
       "['January', 'May', 'August']"
      ]
     },
     "execution_count": 46,
     "metadata": {},
     "output_type": "execute_result"
    }
   ],
   "source": [
    "test_list[0:5:2]  #using steps to define a slice of a list"
   ]
  },
  {
   "cell_type": "code",
   "execution_count": 55,
   "id": "5adcb4c7",
   "metadata": {},
   "outputs": [
    {
     "data": {
      "text/plain": [
       "['March', 'December']"
      ]
     },
     "execution_count": 55,
     "metadata": {},
     "output_type": "execute_result"
    }
   ],
   "source": [
    "test_list[1::5] #to find the 2nd and the last month"
   ]
  },
  {
   "cell_type": "code",
   "execution_count": 48,
   "id": "f6026b40",
   "metadata": {},
   "outputs": [
    {
     "name": "stdout",
     "output_type": "stream",
     "text": [
      "March\n",
      "December\n"
     ]
    }
   ],
   "source": [
    "print(test_list[1] + \"\\n\" + test_list[-1])"
   ]
  },
  {
   "cell_type": "code",
   "execution_count": 49,
   "id": "d54bc4ed",
   "metadata": {},
   "outputs": [
    {
     "name": "stdout",
     "output_type": "stream",
     "text": [
      "January\n",
      "March\n",
      "May\n",
      "July\n",
      "August\n",
      "October\n",
      "December\n"
     ]
    }
   ],
   "source": [
    "for i in test_list:\n",
    "    print(i)\n",
    "      # i is a dummy variable that is created in your loop, that points to each item in the list, one at a atime"
   ]
  },
  {
   "cell_type": "code",
   "execution_count": 54,
   "id": "4bf2adfa",
   "metadata": {},
   "outputs": [
    {
     "name": "stdout",
     "output_type": "stream",
     "text": [
      "I\n",
      "In the\n",
      "created.\n"
     ]
    }
   ],
   "source": [
    "# strings behave a little bit like lists -> each element is a letter\n",
    "test_sentence = \"In the beginning the universe was created\"\n",
    "print(test_sentence[0])\n",
    "print(test_sentence[0:6])\n",
    "print(test_sentence[-7:])"
   ]
  },
  {
   "cell_type": "code",
   "execution_count": 57,
   "id": "f03edeee",
   "metadata": {},
   "outputs": [
    {
     "data": {
      "text/plain": [
       "[5, 'joao', 4.2]"
      ]
     },
     "execution_count": 57,
     "metadata": {},
     "output_type": "execute_result"
    }
   ],
   "source": [
    "list = [5, \"sara\", 4.2]\n",
    "for element in list:\n",
    "    if element == \"sara\":\n",
    "        list[list.index(element)] = \"joao\"            #changing the list using element and not i (index)\n",
    "list"
   ]
  },
  {
   "cell_type": "code",
   "execution_count": 58,
   "id": "74f80743",
   "metadata": {},
   "outputs": [
    {
     "data": {
      "text/plain": [
       "[5, 'sara e joao', 4.2]"
      ]
     },
     "execution_count": 58,
     "metadata": {},
     "output_type": "execute_result"
    }
   ],
   "source": [
    "newlist = []\n",
    "for element in list:\n",
    "    if element != \"joao\":\n",
    "        newlist.append(element)                    #changing the list using element but instead of rewriting the old list, doing\n",
    "                                                   #a new one that will have the results you wanted to change\n",
    "    else:\n",
    "        newlist.append(\"sara e joao\")\n",
    "newlist"
   ]
  },
  {
   "cell_type": "code",
   "execution_count": 62,
   "id": "852682be",
   "metadata": {},
   "outputs": [
    {
     "name": "stdout",
     "output_type": "stream",
     "text": [
      "5\n",
      "4.2\n"
     ]
    }
   ],
   "source": [
    "for element in list:\n",
    "    if type(element) in (float, int):\n",
    "        print(element)"
   ]
  },
  {
   "cell_type": "code",
   "execution_count": 68,
   "id": "e2b3e7a0",
   "metadata": {},
   "outputs": [
    {
     "name": "stdout",
     "output_type": "stream",
     "text": [
      "20\n",
      "56\n"
     ]
    }
   ],
   "source": [
    "list = [20, 30, 42, 56]\n",
    "for i in list:\n",
    "    if i % 3:\n",
    "        print(i)"
   ]
  },
  {
   "cell_type": "code",
   "execution_count": 6,
   "id": "83ea17f6",
   "metadata": {},
   "outputs": [
    {
     "name": "stdout",
     "output_type": "stream",
     "text": [
      "Jan\n",
      "\n",
      "MAR\n",
      "\n",
      "\n",
      "MAY\n",
      "\n",
      "Jul\n",
      "Aug\n",
      "Oct\n",
      "Dec\n"
     ]
    }
   ],
   "source": [
    "test_list = [\"Jan\",\"Mar\",\"May\",\"Jul\",\"Aug\",\"Oct\",\"Dec\"]\n",
    "for month in test_list:\n",
    "    if month[0] == \"M\":\n",
    "        print(\"\\n\" + month.upper() + \"\\n\")\n",
    "    else:\n",
    "        print(month)"
   ]
  },
  {
   "cell_type": "code",
   "execution_count": 4,
   "id": "acc0a81f",
   "metadata": {},
   "outputs": [
    {
     "data": {
      "text/plain": [
       "[float, str, int, bool]"
      ]
     },
     "execution_count": 4,
     "metadata": {},
     "output_type": "execute_result"
    }
   ],
   "source": [
    "typelist = []\n",
    "mylist = [5.0, \"guitar\", 10, True]\n",
    "\n",
    "# the append is a method of lists whose job is to add the element to the end\n",
    "for element in mylist:\n",
    "  typelist.append(type(element))\n",
    "\n",
    "typelist"
   ]
  },
  {
   "cell_type": "code",
   "execution_count": 8,
   "id": "f17a1605",
   "metadata": {},
   "outputs": [
    {
     "name": "stdout",
     "output_type": "stream",
     "text": [
      "1\n",
      "2\n",
      "3\n",
      "4\n",
      "eenie\n",
      "meenie\n",
      "miny\n",
      "moe\n",
      "True\n",
      "False\n",
      "idk\n"
     ]
    }
   ],
   "source": [
    "#nested loops work for when your list is not as simple as previously seen\n",
    "cool_list = [[1,2,3,4], [\"eenie\", \"meenie\", \"miny\", \"moe\"], [True, False, \"idk\"]]     #this list has 3 elements but each list \n",
    "#lists inside a list                                                                  #has its own number of elements\n",
    "    \n",
    "for element in cool_list:\n",
    "    for sub_element in element:\n",
    "        print(sub_element)"
   ]
  },
  {
   "cell_type": "code",
   "execution_count": 11,
   "id": "ca5e0e9f",
   "metadata": {},
   "outputs": [
    {
     "name": "stdout",
     "output_type": "stream",
     "text": [
      "1\n",
      "2\n",
      "3\n",
      "4\n",
      "5\n",
      "6\n"
     ]
    }
   ],
   "source": [
    "i = 0\n",
    "\n",
    "while i < 6: # statement --> here the statment is true if the variable i is smaller that 6\n",
    "  i += 1\n",
    "  print(i)"
   ]
  },
  {
   "cell_type": "code",
   "execution_count": 12,
   "id": "ab02e691",
   "metadata": {},
   "outputs": [
    {
     "name": "stdout",
     "output_type": "stream",
     "text": [
      "1\n",
      "2\n",
      "3\n"
     ]
    }
   ],
   "source": [
    "dummy = [1,2,3,4,5]\n",
    "i = 0\n",
    "\n",
    "while i <3:\n",
    "    print (dummy[i])       \n",
    "    i += 1"
   ]
  },
  {
   "cell_type": "code",
   "execution_count": null,
   "id": "8f37a653",
   "metadata": {},
   "outputs": [],
   "source": []
  }
 ],
 "metadata": {
  "kernelspec": {
   "display_name": "Python 3 (ipykernel)",
   "language": "python",
   "name": "python3"
  },
  "language_info": {
   "codemirror_mode": {
    "name": "ipython",
    "version": 3
   },
   "file_extension": ".py",
   "mimetype": "text/x-python",
   "name": "python",
   "nbconvert_exporter": "python",
   "pygments_lexer": "ipython3",
   "version": "3.9.12"
  }
 },
 "nbformat": 4,
 "nbformat_minor": 5
}
